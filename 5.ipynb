{
 "cells": [
  {
   "cell_type": "markdown",
   "metadata": {},
   "source": [
    "Write an efficient program which given two sorted arrays A[0..n] and\n",
    "B[0..m] finds all values that are present in both arrays."
   ]
  },
  {
   "cell_type": "code",
   "execution_count": 1,
   "metadata": {},
   "outputs": [
    {
     "name": "stdout",
     "output_type": "stream",
     "text": [
      "[100, 104, 108, 112, 116, 120, 124, 128, 132, 136, 140, 144, 148, 152, 156, 160, 164, 168, 172, 176, 180, 184, 188, 192, 196]\n",
      "[100, 104, 108, 112, 116, 120, 124, 128, 132, 136, 140, 144, 148, 152, 156, 160, 164, 168, 172, 176, 180, 184, 188, 192, 196]\n",
      "True\n"
     ]
    }
   ],
   "source": [
    "#Write an efficient program which given two sorted arrays A[0..n] and\n",
    "#B[0..m] finds all values that are present in both arrays.\n",
    "\n",
    "A= range(20,200,4) #Наполним список числами от 20 до 200 с шагом 4\n",
    "B= range(100,250,4)#Наполним список числами от 100 до 250 с шагом 4\n",
    "#Самый эффективный, базируется на алгоритмах работы с множествами библиотеки python\n",
    "C= list(set(A).intersection(set(B)))\n",
    "C.sort()\n",
    "#Если переписать его, можно получить следующее\n",
    "def Intersection(A, B):\n",
    "    result=[]\n",
    "    if len(A) <= len(B):\n",
    "        little, big = A, B\n",
    "    else:\n",
    "        little, big = B, A\n",
    "    firstbig=big[0]\n",
    "    lastbig=big[-1]\n",
    "    for x in little:\n",
    "        if x >= firstbig:\n",
    "            if x<=lastbig:\n",
    "                if x in big:\n",
    "                    result.append(x)\n",
    "    return list(result)\n",
    "D=Intersection(A,B) \n",
    "print (C)\n",
    "print (D)\n",
    "print(C==D)"
   ]
  },
  {
   "cell_type": "code",
   "execution_count": null,
   "metadata": {
    "collapsed": true
   },
   "outputs": [],
   "source": []
  }
 ],
 "metadata": {
  "kernelspec": {
   "display_name": "Python 3",
   "language": "python",
   "name": "python3"
  },
  "language_info": {
   "codemirror_mode": {
    "name": "ipython",
    "version": 3
   },
   "file_extension": ".py",
   "mimetype": "text/x-python",
   "name": "python",
   "nbconvert_exporter": "python",
   "pygments_lexer": "ipython3",
   "version": "3.6.1"
  }
 },
 "nbformat": 4,
 "nbformat_minor": 2
}
